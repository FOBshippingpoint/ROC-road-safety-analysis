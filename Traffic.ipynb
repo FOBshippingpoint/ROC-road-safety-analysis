{
 "cells":[
  {
   "cell_type":"code",
   "source":[
    "import pandas as pd\n",
    "import seaborn as sns\n",
    "import matplotlib.pyplot as plt\n",
    "from matplotlib import rcParams\n",
    "rcParams.update({'font.size':22})\n",
    "# rcParams['font.family'] = ['NotoSansCJKtc']\n",
    "# 機車死亡事故中 機車駕駛是第一當事人的比率"
   ],
   "execution_count":12,
   "outputs":[
    
   ],
   "metadata":{
    "datalore":{
     "type":"CODE",
     "hide_input_from_viewers":false,
     "hide_output_from_viewers":false
    }
   }
  },
  {
   "cell_type":"code",
   "source":[
    "df = pd.read_csv(\"110年-臺北市A1及A2類交通事故明細.csv\", encoding=\"big5\")"
   ],
   "execution_count":3,
   "outputs":[
    
   ],
   "metadata":{
    "datalore":{
     "type":"CODE",
     "hide_input_from_viewers":false,
     "hide_output_from_viewers":false
    }
   }
  },
  {
   "cell_type":"code",
   "source":[
    "df.head()"
   ],
   "execution_count":4,
   "outputs":[
    {
     "data":{
      "text\/html":[
       "<div>\n",
       "<style scoped>\n",
       "    .dataframe tbody tr th:only-of-type {\n",
       "        vertical-align: middle;\n",
       "    }\n",
       "\n",
       "    .dataframe tbody tr th {\n",
       "        vertical-align: top;\n",
       "    }\n",
       "\n",
       "    .dataframe thead th {\n",
       "        text-align: right;\n",
       "    }\n",
       "<\/style>\n",
       "<table border=\"1\" class=\"dataframe\">\n",
       "  <thead>\n",
       "    <tr style=\"text-align: right;\">\n",
       "      <th><\/th>\n",
       "      <th>發生年<\/th>\n",
       "      <th>發生月<\/th>\n",
       "      <th>發生日<\/th>\n",
       "      <th>發生時<\/th>\n",
       "      <th>發生分<\/th>\n",
       "      <th>處理別<\/th>\n",
       "      <th>區序<\/th>\n",
       "      <th>肇事地點<\/th>\n",
       "      <th>死亡人數<\/th>\n",
       "      <th>2-30日死亡人數<\/th>\n",
       "      <th>...<\/th>\n",
       "      <th>飲酒情形<\/th>\n",
       "      <th>車輛撞擊部位1<\/th>\n",
       "      <th>車輛撞擊部位2<\/th>\n",
       "      <th>肇因碼-個別<\/th>\n",
       "      <th>肇因碼-主要<\/th>\n",
       "      <th>個人肇逃否<\/th>\n",
       "      <th>職業<\/th>\n",
       "      <th>旅次目的<\/th>\n",
       "      <th>X<\/th>\n",
       "      <th>Y<\/th>\n",
       "    <\/tr>\n",
       "  <\/thead>\n",
       "  <tbody>\n",
       "    <tr>\n",
       "      <th>0<\/th>\n",
       "      <td>110<\/td>\n",
       "      <td>1<\/td>\n",
       "      <td>1<\/td>\n",
       "      <td>0<\/td>\n",
       "      <td>30<\/td>\n",
       "      <td>2<\/td>\n",
       "      <td>04大安區<\/td>\n",
       "      <td>大安區復興南路2段193巷與和平東路2段265巷口口<\/td>\n",
       "      <td>0<\/td>\n",
       "      <td>0<\/td>\n",
       "      <td>...<\/td>\n",
       "      <td>1.0<\/td>\n",
       "      <td>14.0<\/td>\n",
       "      <td>NaN<\/td>\n",
       "      <td>6.0<\/td>\n",
       "      <td>6<\/td>\n",
       "      <td>1.0<\/td>\n",
       "      <td>22.0<\/td>\n",
       "      <td>9.0<\/td>\n",
       "      <td>121.544028<\/td>\n",
       "      <td>25.025702<\/td>\n",
       "    <\/tr>\n",
       "    <tr>\n",
       "      <th>1<\/th>\n",
       "      <td>110<\/td>\n",
       "      <td>1<\/td>\n",
       "      <td>1<\/td>\n",
       "      <td>0<\/td>\n",
       "      <td>30<\/td>\n",
       "      <td>2<\/td>\n",
       "      <td>04大安區<\/td>\n",
       "      <td>大安區復興南路2段193巷與和平東路2段265巷口口<\/td>\n",
       "      <td>0<\/td>\n",
       "      <td>0<\/td>\n",
       "      <td>...<\/td>\n",
       "      <td>1.0<\/td>\n",
       "      <td>5.0<\/td>\n",
       "      <td>NaN<\/td>\n",
       "      <td>13.0<\/td>\n",
       "      <td>6<\/td>\n",
       "      <td>1.0<\/td>\n",
       "      <td>22.0<\/td>\n",
       "      <td>9.0<\/td>\n",
       "      <td>121.544028<\/td>\n",
       "      <td>25.025702<\/td>\n",
       "    <\/tr>\n",
       "    <tr>\n",
       "      <th>2<\/th>\n",
       "      <td>110<\/td>\n",
       "      <td>1<\/td>\n",
       "      <td>1<\/td>\n",
       "      <td>0<\/td>\n",
       "      <td>34<\/td>\n",
       "      <td>2<\/td>\n",
       "      <td>03中山區<\/td>\n",
       "      <td>中山區北安路機車專用道往士林<\/td>\n",
       "      <td>0<\/td>\n",
       "      <td>0<\/td>\n",
       "      <td>...<\/td>\n",
       "      <td>1.0<\/td>\n",
       "      <td>11.0<\/td>\n",
       "      <td>NaN<\/td>\n",
       "      <td>16.0<\/td>\n",
       "      <td>16<\/td>\n",
       "      <td>1.0<\/td>\n",
       "      <td>22.0<\/td>\n",
       "      <td>9.0<\/td>\n",
       "      <td>121.551264<\/td>\n",
       "      <td>25.086169<\/td>\n",
       "    <\/tr>\n",
       "    <tr>\n",
       "      <th>3<\/th>\n",
       "      <td>110<\/td>\n",
       "      <td>1<\/td>\n",
       "      <td>1<\/td>\n",
       "      <td>0<\/td>\n",
       "      <td>34<\/td>\n",
       "      <td>2<\/td>\n",
       "      <td>03中山區<\/td>\n",
       "      <td>中山區北安路機車專用道往士林<\/td>\n",
       "      <td>0<\/td>\n",
       "      <td>0<\/td>\n",
       "      <td>...<\/td>\n",
       "      <td>1.0<\/td>\n",
       "      <td>13.0<\/td>\n",
       "      <td>NaN<\/td>\n",
       "      <td>44.0<\/td>\n",
       "      <td>16<\/td>\n",
       "      <td>1.0<\/td>\n",
       "      <td>22.0<\/td>\n",
       "      <td>9.0<\/td>\n",
       "      <td>121.551264<\/td>\n",
       "      <td>25.086169<\/td>\n",
       "    <\/tr>\n",
       "    <tr>\n",
       "      <th>4<\/th>\n",
       "      <td>110<\/td>\n",
       "      <td>1<\/td>\n",
       "      <td>1<\/td>\n",
       "      <td>0<\/td>\n",
       "      <td>50<\/td>\n",
       "      <td>2<\/td>\n",
       "      <td>07信義區<\/td>\n",
       "      <td>信義區吳興街與吳興街361巷口<\/td>\n",
       "      <td>0<\/td>\n",
       "      <td>0<\/td>\n",
       "      <td>...<\/td>\n",
       "      <td>1.0<\/td>\n",
       "      <td>1.0<\/td>\n",
       "      <td>NaN<\/td>\n",
       "      <td>6.0<\/td>\n",
       "      <td>6<\/td>\n",
       "      <td>1.0<\/td>\n",
       "      <td>22.0<\/td>\n",
       "      <td>9.0<\/td>\n",
       "      <td>121.566471<\/td>\n",
       "      <td>25.025775<\/td>\n",
       "    <\/tr>\n",
       "  <\/tbody>\n",
       "<\/table>\n",
       "<p>5 rows × 51 columns<\/p>\n",
       "<\/div>"
      ]
     },
     "metadata":{
      
     },
     "output_type":"display_data"
    }
   ],
   "metadata":{
    "datalore":{
     "type":"CODE",
     "hide_input_from_viewers":false,
     "hide_output_from_viewers":false
    }
   }
  },
  {
   "cell_type":"code",
   "source":[
    "df.info()"
   ],
   "execution_count":5,
   "outputs":[
    {
     "name":"stdout",
     "text":[
      "<class 'pandas.core.frame.DataFrame'>\n",
      "RangeIndex: 55366 entries, 0 to 55365\n",
      "Data columns (total 51 columns):\n",
      " #   Column      Non-Null Count  Dtype  \n",
      "---  ------      --------------  -----  \n",
      " 0   發生年         55366 non-null  int64  \n",
      " 1   發生月         55366 non-null  int64  \n",
      " 2   發生日         55366 non-null  int64  \n",
      " 3   發生時         55366 non-null  int64  \n",
      " 4   發生分         55366 non-null  int64  \n",
      " 5   處理別         55366 non-null  int64  \n",
      " 6   區序          55366 non-null  object \n",
      " 7   肇事地點        55366 non-null  object \n",
      " 8   死亡人數        55366 non-null  int64  \n",
      " 9   2-30日死亡人數   55366 non-null  int64  \n",
      " 10  受傷人數        55366 non-null  int64  \n",
      " 11  當事人序        55366 non-null  int64  \n",
      " 12  車種          54109 non-null  object \n",
      " 13  4天候         55366 non-null  int64  \n",
      " 14  5光線         55366 non-null  int64  \n",
      " 15  6道路類別       55366 non-null  int64  \n",
      " 16  7速限         55366 non-null  int64  \n",
      " 17  8道路型態       55366 non-null  int64  \n",
      " 18  9事故位置       55366 non-null  int64  \n",
      " 19  10路面狀況1     55366 non-null  int64  \n",
      " 20  10路面狀況2     55366 non-null  int64  \n",
      " 21  10路面狀況3     55366 non-null  int64  \n",
      " 22  11道路障礙1     55366 non-null  int64  \n",
      " 23  11道路障礙2     55366 non-null  int64  \n",
      " 24  12號誌1       55366 non-null  int64  \n",
      " 25  12號誌2       55366 non-null  int64  \n",
      " 26  13車道劃分-分向   55366 non-null  int64  \n",
      " 27  14車道劃分-分道1  55366 non-null  int64  \n",
      " 28  14車道劃分-分道2  55366 non-null  int64  \n",
      " 29  14車道劃分-分道3  55366 non-null  int64  \n",
      " 30  15事故類型及型態   55366 non-null  int64  \n",
      " 31  性別          55366 non-null  int64  \n",
      " 32  年齡          53484 non-null  float64\n",
      " 33  受傷程度        54039 non-null  float64\n",
      " 34  主要傷處        54039 non-null  float64\n",
      " 35  保護裝置        54039 non-null  float64\n",
      " 36  行動電話        54039 non-null  float64\n",
      " 37  車輛用途        54039 non-null  float64\n",
      " 38  當事者行動狀態     54044 non-null  float64\n",
      " 39  駕駛資格情形      54039 non-null  float64\n",
      " 40  駕駛執照種類      54039 non-null  float64\n",
      " 41  飲酒情形        54039 non-null  float64\n",
      " 42  車輛撞擊部位1     54039 non-null  float64\n",
      " 43  車輛撞擊部位2     336 non-null    float64\n",
      " 44  肇因碼-個別      55363 non-null  float64\n",
      " 45  肇因碼-主要      55366 non-null  int64  \n",
      " 46  個人肇逃否       55273 non-null  float64\n",
      " 47  職業          54045 non-null  float64\n",
      " 48  旅次目的        54045 non-null  float64\n",
      " 49  X           55366 non-null  float64\n",
      " 50  Y           55366 non-null  float64\n",
      "dtypes: float64(18), int64(30), object(3)\n",
      "memory usage: 21.5+ MB\n"
     ],
     "output_type":"stream"
    }
   ],
   "metadata":{
    "datalore":{
     "type":"CODE",
     "hide_input_from_viewers":false,
     "hide_output_from_viewers":false
    }
   }
  },
  {
   "cell_type":"code",
   "source":[
    "from datetime import datetime\n",
    "\n",
    "df[\"發生年\"] = df[\"發生年\"] + 1911\n",
    "df.rename(columns={'發生年': 'year', '發生月': 'month', '發生日': 'day', '發生時': 'hour', '發生分': 'minute'}, inplace=True)\n",
    "dt = pd.to_datetime(df[['year', 'month', 'day', 'hour', 'minute']])\n",
    "df = df.drop([\"year\", \"month\", \"day\", \"hour\", \"minute\"], axis=1)\n",
    "df.insert(0, \"時間\", dt)\n",
    "df.info()\n",
    "df.head()"
   ],
   "execution_count":6,
   "outputs":[
    {
     "name":"stdout",
     "text":[
      "<class 'pandas.core.frame.DataFrame'>\n",
      "RangeIndex: 55366 entries, 0 to 55365\n",
      "Data columns (total 47 columns):\n",
      " #   Column      Non-Null Count  Dtype         \n",
      "---  ------      --------------  -----         \n",
      " 0   時間          55366 non-null  datetime64[ns]\n",
      " 1   處理別         55366 non-null  int64         \n",
      " 2   區序          55366 non-null  object        \n",
      " 3   肇事地點        55366 non-null  object        \n",
      " 4   死亡人數        55366 non-null  int64         \n",
      " 5   2-30日死亡人數   55366 non-null  int64         \n",
      " 6   受傷人數        55366 non-null  int64         \n",
      " 7   當事人序        55366 non-null  int64         \n",
      " 8   車種          54109 non-null  object        \n",
      " 9   4天候         55366 non-null  int64         \n",
      " 10  5光線         55366 non-null  int64         \n",
      " 11  6道路類別       55366 non-null  int64         \n",
      " 12  7速限         55366 non-null  int64         \n",
      " 13  8道路型態       55366 non-null  int64         \n",
      " 14  9事故位置       55366 non-null  int64         \n",
      " 15  10路面狀況1     55366 non-null  int64         \n",
      " 16  10路面狀況2     55366 non-null  int64         \n",
      " 17  10路面狀況3     55366 non-null  int64         \n",
      " 18  11道路障礙1     55366 non-null  int64         \n",
      " 19  11道路障礙2     55366 non-null  int64         \n",
      " 20  12號誌1       55366 non-null  int64         \n",
      " 21  12號誌2       55366 non-null  int64         \n",
      " 22  13車道劃分-分向   55366 non-null  int64         \n",
      " 23  14車道劃分-分道1  55366 non-null  int64         \n",
      " 24  14車道劃分-分道2  55366 non-null  int64         \n",
      " 25  14車道劃分-分道3  55366 non-null  int64         \n",
      " 26  15事故類型及型態   55366 non-null  int64         \n",
      " 27  性別          55366 non-null  int64         \n",
      " 28  年齡          53484 non-null  float64       \n",
      " 29  受傷程度        54039 non-null  float64       \n",
      " 30  主要傷處        54039 non-null  float64       \n",
      " 31  保護裝置        54039 non-null  float64       \n",
      " 32  行動電話        54039 non-null  float64       \n",
      " 33  車輛用途        54039 non-null  float64       \n",
      " 34  當事者行動狀態     54044 non-null  float64       \n",
      " 35  駕駛資格情形      54039 non-null  float64       \n",
      " 36  駕駛執照種類      54039 non-null  float64       \n",
      " 37  飲酒情形        54039 non-null  float64       \n",
      " 38  車輛撞擊部位1     54039 non-null  float64       \n",
      " 39  車輛撞擊部位2     336 non-null    float64       \n",
      " 40  肇因碼-個別      55363 non-null  float64       \n",
      " 41  肇因碼-主要      55366 non-null  int64         \n",
      " 42  個人肇逃否       55273 non-null  float64       \n",
      " 43  職業          54045 non-null  float64       \n",
      " 44  旅次目的        54045 non-null  float64       \n",
      " 45  X           55366 non-null  float64       \n",
      " 46  Y           55366 non-null  float64       \n",
      "dtypes: datetime64[ns](1), float64(18), int64(25), object(3)\n",
      "memory usage: 19.9+ MB\n"
     ],
     "output_type":"stream"
    },
    {
     "data":{
      "text\/html":[
       "<div>\n",
       "<style scoped>\n",
       "    .dataframe tbody tr th:only-of-type {\n",
       "        vertical-align: middle;\n",
       "    }\n",
       "\n",
       "    .dataframe tbody tr th {\n",
       "        vertical-align: top;\n",
       "    }\n",
       "\n",
       "    .dataframe thead th {\n",
       "        text-align: right;\n",
       "    }\n",
       "<\/style>\n",
       "<table border=\"1\" class=\"dataframe\">\n",
       "  <thead>\n",
       "    <tr style=\"text-align: right;\">\n",
       "      <th><\/th>\n",
       "      <th>時間<\/th>\n",
       "      <th>處理別<\/th>\n",
       "      <th>區序<\/th>\n",
       "      <th>肇事地點<\/th>\n",
       "      <th>死亡人數<\/th>\n",
       "      <th>2-30日死亡人數<\/th>\n",
       "      <th>受傷人數<\/th>\n",
       "      <th>當事人序<\/th>\n",
       "      <th>車種<\/th>\n",
       "      <th>4天候<\/th>\n",
       "      <th>...<\/th>\n",
       "      <th>飲酒情形<\/th>\n",
       "      <th>車輛撞擊部位1<\/th>\n",
       "      <th>車輛撞擊部位2<\/th>\n",
       "      <th>肇因碼-個別<\/th>\n",
       "      <th>肇因碼-主要<\/th>\n",
       "      <th>個人肇逃否<\/th>\n",
       "      <th>職業<\/th>\n",
       "      <th>旅次目的<\/th>\n",
       "      <th>X<\/th>\n",
       "      <th>Y<\/th>\n",
       "    <\/tr>\n",
       "  <\/thead>\n",
       "  <tbody>\n",
       "    <tr>\n",
       "      <th>0<\/th>\n",
       "      <td>2021-01-01 00:30:00<\/td>\n",
       "      <td>2<\/td>\n",
       "      <td>04大安區<\/td>\n",
       "      <td>大安區復興南路2段193巷與和平東路2段265巷口口<\/td>\n",
       "      <td>0<\/td>\n",
       "      <td>0<\/td>\n",
       "      <td>1<\/td>\n",
       "      <td>1<\/td>\n",
       "      <td>C03<\/td>\n",
       "      <td>8<\/td>\n",
       "      <td>...<\/td>\n",
       "      <td>1.0<\/td>\n",
       "      <td>14.0<\/td>\n",
       "      <td>NaN<\/td>\n",
       "      <td>6.0<\/td>\n",
       "      <td>6<\/td>\n",
       "      <td>1.0<\/td>\n",
       "      <td>22.0<\/td>\n",
       "      <td>9.0<\/td>\n",
       "      <td>121.544028<\/td>\n",
       "      <td>25.025702<\/td>\n",
       "    <\/tr>\n",
       "    <tr>\n",
       "      <th>1<\/th>\n",
       "      <td>2021-01-01 00:30:00<\/td>\n",
       "      <td>2<\/td>\n",
       "      <td>04大安區<\/td>\n",
       "      <td>大安區復興南路2段193巷與和平東路2段265巷口口<\/td>\n",
       "      <td>0<\/td>\n",
       "      <td>0<\/td>\n",
       "      <td>1<\/td>\n",
       "      <td>2<\/td>\n",
       "      <td>B03<\/td>\n",
       "      <td>8<\/td>\n",
       "      <td>...<\/td>\n",
       "      <td>1.0<\/td>\n",
       "      <td>5.0<\/td>\n",
       "      <td>NaN<\/td>\n",
       "      <td>13.0<\/td>\n",
       "      <td>6<\/td>\n",
       "      <td>1.0<\/td>\n",
       "      <td>22.0<\/td>\n",
       "      <td>9.0<\/td>\n",
       "      <td>121.544028<\/td>\n",
       "      <td>25.025702<\/td>\n",
       "    <\/tr>\n",
       "    <tr>\n",
       "      <th>2<\/th>\n",
       "      <td>2021-01-01 00:34:00<\/td>\n",
       "      <td>2<\/td>\n",
       "      <td>03中山區<\/td>\n",
       "      <td>中山區北安路機車專用道往士林<\/td>\n",
       "      <td>0<\/td>\n",
       "      <td>0<\/td>\n",
       "      <td>1<\/td>\n",
       "      <td>1<\/td>\n",
       "      <td>C03<\/td>\n",
       "      <td>8<\/td>\n",
       "      <td>...<\/td>\n",
       "      <td>1.0<\/td>\n",
       "      <td>11.0<\/td>\n",
       "      <td>NaN<\/td>\n",
       "      <td>16.0<\/td>\n",
       "      <td>16<\/td>\n",
       "      <td>1.0<\/td>\n",
       "      <td>22.0<\/td>\n",
       "      <td>9.0<\/td>\n",
       "      <td>121.551264<\/td>\n",
       "      <td>25.086169<\/td>\n",
       "    <\/tr>\n",
       "    <tr>\n",
       "      <th>3<\/th>\n",
       "      <td>2021-01-01 00:34:00<\/td>\n",
       "      <td>2<\/td>\n",
       "      <td>03中山區<\/td>\n",
       "      <td>中山區北安路機車專用道往士林<\/td>\n",
       "      <td>0<\/td>\n",
       "      <td>0<\/td>\n",
       "      <td>1<\/td>\n",
       "      <td>2<\/td>\n",
       "      <td>C03<\/td>\n",
       "      <td>8<\/td>\n",
       "      <td>...<\/td>\n",
       "      <td>1.0<\/td>\n",
       "      <td>13.0<\/td>\n",
       "      <td>NaN<\/td>\n",
       "      <td>44.0<\/td>\n",
       "      <td>16<\/td>\n",
       "      <td>1.0<\/td>\n",
       "      <td>22.0<\/td>\n",
       "      <td>9.0<\/td>\n",
       "      <td>121.551264<\/td>\n",
       "      <td>25.086169<\/td>\n",
       "    <\/tr>\n",
       "    <tr>\n",
       "      <th>4<\/th>\n",
       "      <td>2021-01-01 00:50:00<\/td>\n",
       "      <td>2<\/td>\n",
       "      <td>07信義區<\/td>\n",
       "      <td>信義區吳興街與吳興街361巷口<\/td>\n",
       "      <td>0<\/td>\n",
       "      <td>0<\/td>\n",
       "      <td>1<\/td>\n",
       "      <td>1<\/td>\n",
       "      <td>B03<\/td>\n",
       "      <td>7<\/td>\n",
       "      <td>...<\/td>\n",
       "      <td>1.0<\/td>\n",
       "      <td>1.0<\/td>\n",
       "      <td>NaN<\/td>\n",
       "      <td>6.0<\/td>\n",
       "      <td>6<\/td>\n",
       "      <td>1.0<\/td>\n",
       "      <td>22.0<\/td>\n",
       "      <td>9.0<\/td>\n",
       "      <td>121.566471<\/td>\n",
       "      <td>25.025775<\/td>\n",
       "    <\/tr>\n",
       "  <\/tbody>\n",
       "<\/table>\n",
       "<p>5 rows × 47 columns<\/p>\n",
       "<\/div>"
      ]
     },
     "metadata":{
      
     },
     "output_type":"display_data"
    }
   ],
   "metadata":{
    "datalore":{
     "type":"CODE",
     "hide_input_from_viewers":false,
     "hide_output_from_viewers":false
    }
   }
  },
  {
   "cell_type":"code",
   "source":[
    "\n",
    "df[df[\"死亡人數\"] > 0].count()"
   ],
   "execution_count":7,
   "outputs":[
    {
     "data":{
      "text\/html":[
       
      ]
     },
     "metadata":{
      
     },
     "output_type":"display_data"
    }
   ],
   "metadata":{
    "datalore":{
     "type":"CODE",
     "hide_input_from_viewers":false,
     "hide_output_from_viewers":false
    }
   }
  },
  {
   "cell_type":"code",
   "source":[
    "sns.lineplot(data=df.loc[:100, [\"時間\", \"年齡\"]])"
   ],
   "execution_count":8,
   "outputs":[
    {
     "name":"stderr",
     "text":[
      "\/opt\/python\/envs\/default\/lib\/python3.8\/site-packages\/IPython\/core\/pylabtools.py:151: UserWarning: Glyph 24180 (\\N{CJK UNIFIED IDEOGRAPH-5E74}) missing from current font.\n",
      "  fig.canvas.print_figure(bytes_io, **kw)\n",
      "\/opt\/python\/envs\/default\/lib\/python3.8\/site-packages\/IPython\/core\/pylabtools.py:151: UserWarning: Glyph 40801 (\\N{CJK UNIFIED IDEOGRAPH-9F61}) missing from current font.\n",
      "  fig.canvas.print_figure(bytes_io, **kw)\n"
     ],
     "output_type":"stream"
    },
    {
     "data":{
      "text\/plain":[
       "<AxesSubplot:>"
      ],
      "image\/png":"[encoded data removed]"
     },
     "metadata":{
      "image\/png":{
       
      }
     },
     "output_type":"display_data"
    }
   ],
   "metadata":{
    "datalore":{
     "type":"CODE",
     "hide_input_from_viewers":false,
     "hide_output_from_viewers":false
    }
   }
  },
  {
   "cell_type":"code",
   "source":[
    "# C = 機車\n",
    "# C01 => C\n",
    "# A01 => A\n",
    "df[\"車種\"] = df[\"車種\"].str[0]\n",
    "dead = df[(df[\"受傷程度\"] == 1) | (df[\"受傷程度\"] == 5)].drop_duplicates(subset=[\"時間\", \"肇事地點\"])\n",
    "dead[\"車種\"] = dead[\"車種\"].replace({\"A\": \"Large Vehicles\", \"B\": \"Small Vehicles\", \"C\": \"Motocycles\", \"D\": \"Military Vehicles\",\n",
    "                   \"E\": \"Special Vehicles\", \"F\": \"Slow-Moving Vehicles\", \"G\": \"Other Vehicles\", \"H\": \"People\"})\n",
    "dead.rename(columns={\"死亡人數\":\"Deaths\", \"車種\":\"Vehicle Type\", \"當事人序\":\"Party Order\"}, inplace=True)\n",
    "plt.figure(figsize=(12,10))\n",
    "sns.countplot(data=dead, y=\"Vehicle Type\", hue=\"Party Order\")\n",
    "plt.legend(title=\"Party Order\", loc=\"lower right\")\n",
    "plt.title(\"Taipei City A1 Deaths by Vehicle Type\")"
   ],
   "execution_count":13,
   "outputs":[
    {
     "data":{
      "text\/plain":[
       "Text(0.5, 1.0, 'Taipei City A1 Deaths by Vehicle Type')"
      ],
      "image\/png":"[encoded data removed]"
     },
     "metadata":{
      "image\/png":{
       
      }
     },
     "output_type":"display_data"
    }
   ],
   "metadata":{
    "datalore":{
     "type":"CODE",
     "hide_input_from_viewers":false,
     "hide_output_from_viewers":false
    }
   }
  },
  {
   "cell_type":"code",
   "source":[
    "# 機車死亡\n",
    "# (當事人)受傷程度 1 = 24h內死亡, 5 = 30d內死亡\n",
    "df_moto_dead = df[(df[\"車種\"] == \"C\") & ((df[\"受傷程度\"] == 1) | (df[\"受傷程度\"] == 5))]\n",
    "df_moto_dead_party_1 = df_moto_dead[df_moto_dead[\"當事人序\"] == 1]\n",
    "df_moto_dead_not_party_1 = df_moto_dead[df_moto_dead[\"當事人序\"] != 1]\n",
    "total = df_moto_dead.shape[0]\n",
    "moto_dead_party_1 = df_moto_dead_party_1.shape[0]\n",
    "moto_dead_not_party_1 = df_moto_dead_not_party_1.shape[0]"
   ],
   "execution_count":15,
   "outputs":[
    
   ],
   "metadata":{
    "datalore":{
     "type":"CODE",
     "hide_input_from_viewers":false,
     "hide_output_from_viewers":false
    }
   }
  },
  {
   "cell_type":"code",
   "source":[
    "sizes = [moto_dead_party_1, moto_dead_not_party_1]\n",
    "fig1, ax1 = plt.subplots()\n",
    "ax1.pie(sizes, labels=[\"moto party1\", \"moto not party1\"], autopct='%1.1f%%', startangle=90)\n",
    "ax1.axis('equal')  # Equal aspect ratio ensures that pie is drawn as a circle.\n",
    "ax1.set_title(\"Motorcyclist fatality rate in A1 accident\")\n",
    "plt.figure(figsize=(20, 12))\n",
    "plt.show()\n",
    "plt.savefig(fname=\"pie.png\")"
   ],
   "execution_count":19,
   "outputs":[
    {
     "data":{
      "image\/png":"[encoded data removed]",
      "text\/plain":[
       "<Figure size 432x288 with 0 Axes>"
      ]
     },
     "metadata":{
      "image\/png":{
       
      }
     },
     "output_type":"display_data"
    }
   ],
   "metadata":{
    "datalore":{
     "type":"CODE",
     "hide_input_from_viewers":false,
     "hide_output_from_viewers":false
    }
   }
  },
  {
   "cell_type":"code",
   "source":[
    
   ],
   "execution_count":null,
   "outputs":[
    
   ],
   "metadata":{
    "datalore":{
     "type":"CODE",
     "hide_input_from_viewers":false,
     "hide_output_from_viewers":false
    }
   }
  },
  {
   "cell_type":"code",
   "source":[
    "df_dead = df[(df[\"受傷程度\"] == 1) | (df[\"受傷程度\"] == 5)]\n",
    "s = df_dead[df_dead[\"當事人序\"] == 1][\"車種\"]\n",
    "s.value_counts()"
   ],
   "execution_count":126,
   "outputs":[
    {
     "data":{
      "text\/html":[
       
      ]
     },
     "metadata":{
      
     },
     "output_type":"display_data"
    }
   ],
   "metadata":{
    "datalore":{
     "type":"CODE",
     "hide_input_from_viewers":false,
     "hide_output_from_viewers":false
    }
   }
  },
  {
   "cell_type":"code",
   "source":[
    "print(\"去掉重複資料前:\", df.shape[0])\n",
    "df = df.drop_duplicates(subset=[\"時間\", \"肇事地點\"])\n",
    "print(\"去掉重複資料後:\", df.shape[0])"
   ],
   "execution_count":71,
   "outputs":[
    {
     "name":"stdout",
     "text":[
      "去掉重複資料前: 22844\n",
      "去掉重複資料後: 22844\n"
     ],
     "output_type":"stream"
    },
    {
     "data":{
      "text\/html":[
       
      ]
     },
     "metadata":{
      
     },
     "output_type":"display_data"
    }
   ],
   "metadata":{
    "datalore":{
     "type":"CODE",
     "hide_input_from_viewers":false,
     "hide_output_from_viewers":false
    }
   }
  },
  {
   "cell_type":"code",
   "source":[
    
   ],
   "execution_count":0,
   "outputs":[
    
   ],
   "metadata":{
    "datalore":{
     "type":"CODE",
     "hide_input_from_viewers":false,
     "hide_output_from_viewers":false
    }
   }
  }
 ],
 "metadata":{
  "datalore":{
   "version":1,
   "computation_mode":"JUPYTER",
   "package_manager":"pip",
   "base_environment":"default",
   "packages":[
    
   ]
  }
 },
 "nbformat":4,
 "nbformat_minor":4
}